{
 "cells": [
  {
   "cell_type": "code",
   "execution_count": 236,
   "metadata": {},
   "outputs": [],
   "source": [
    "import pandas as pd\n",
    "import numpy as np\n",
    "import matplotlib.pyplot as plt\n",
    "import seaborn as sns"
   ]
  },
  {
   "cell_type": "code",
   "execution_count": 237,
   "metadata": {},
   "outputs": [],
   "source": [
    "data = pd.read_csv(r'C:\\Users\\Bryan\\Documents\\Data_Science\\social media bar chart practice.csv')"
   ]
  },
  {
   "cell_type": "code",
   "execution_count": 238,
   "metadata": {
    "scrolled": true
   },
   "outputs": [
    {
     "data": {
      "text/html": [
       "<div>\n",
       "<style scoped>\n",
       "    .dataframe tbody tr th:only-of-type {\n",
       "        vertical-align: middle;\n",
       "    }\n",
       "\n",
       "    .dataframe tbody tr th {\n",
       "        vertical-align: top;\n",
       "    }\n",
       "\n",
       "    .dataframe thead th {\n",
       "        text-align: right;\n",
       "    }\n",
       "</style>\n",
       "<table border=\"1\" class=\"dataframe\">\n",
       "  <thead>\n",
       "    <tr style=\"text-align: right;\">\n",
       "      <th></th>\n",
       "      <th>social_media</th>\n",
       "    </tr>\n",
       "  </thead>\n",
       "  <tbody>\n",
       "    <tr>\n",
       "      <th>0</th>\n",
       "      <td>1,3,4,5</td>\n",
       "    </tr>\n",
       "    <tr>\n",
       "      <th>1</th>\n",
       "      <td>1,2,3,4,5</td>\n",
       "    </tr>\n",
       "    <tr>\n",
       "      <th>2</th>\n",
       "      <td>2,3,4,5,7,10</td>\n",
       "    </tr>\n",
       "    <tr>\n",
       "      <th>3</th>\n",
       "      <td>3,4,5,7</td>\n",
       "    </tr>\n",
       "    <tr>\n",
       "      <th>4</th>\n",
       "      <td>1,3,4,7</td>\n",
       "    </tr>\n",
       "  </tbody>\n",
       "</table>\n",
       "</div>"
      ],
      "text/plain": [
       "   social_media\n",
       "0       1,3,4,5\n",
       "1     1,2,3,4,5\n",
       "2  2,3,4,5,7,10\n",
       "3       3,4,5,7\n",
       "4       1,3,4,7"
      ]
     },
     "execution_count": 238,
     "metadata": {},
     "output_type": "execute_result"
    }
   ],
   "source": [
    "#Need to seperate out values to get a data point for each selection\n",
    "\n",
    "data.head()"
   ]
  },
  {
   "cell_type": "code",
   "execution_count": 243,
   "metadata": {},
   "outputs": [
    {
     "data": {
      "text/plain": [
       "['1,3,4,5',\n",
       " '1,2,3,4,5',\n",
       " '2,3,4,5,7,10',\n",
       " '3,4,5,7',\n",
       " '1,3,4,7',\n",
       " '3,4',\n",
       " '1,2,3,4,5,6,7,10',\n",
       " '1',\n",
       " '4',\n",
       " '3,4,5']"
      ]
     },
     "execution_count": 243,
     "metadata": {},
     "output_type": "execute_result"
    }
   ],
   "source": [
    "#First turn series into a list to make it easier to iterate\n",
    "\n",
    "listed = list(data['social_media'])\n",
    "listed[:10]"
   ]
  },
  {
   "cell_type": "code",
   "execution_count": 263,
   "metadata": {
    "collapsed": true
   },
   "outputs": [
    {
     "data": {
      "text/plain": [
       "[['1', '3', '4', '5'],\n",
       " ['1', '2', '3', '4', '5'],\n",
       " ['2', '3', '4', '5', '7', '10'],\n",
       " ['3', '4', '5', '7'],\n",
       " ['1', '3', '4', '7'],\n",
       " ['3', '4'],\n",
       " ['1', '2', '3', '4', '5', '6', '7', '10'],\n",
       " ['1'],\n",
       " ['4'],\n",
       " ['3', '4', '5'],\n",
       " ['1', '3', '4', '7'],\n",
       " ['1', '2', '3', '4', '5', '10'],\n",
       " ['1', '3', '4', '5', '10'],\n",
       " ['2', '3', '4', '5'],\n",
       " ['1', '5'],\n",
       " ['5', '7', '9'],\n",
       " ['3', '4'],\n",
       " ['3', '4', '5'],\n",
       " ['3', '4', '5', '7'],\n",
       " ['3', '4', '5'],\n",
       " ['3', '4'],\n",
       " ['3', '4', '5', '9'],\n",
       " ['1', '2', '3', '4', '5'],\n",
       " ['3', '5'],\n",
       " ['3'],\n",
       " ['1', '2', '3', '4', '7'],\n",
       " ['1', '2', '3', '5'],\n",
       " ['2', '3', '4', '5'],\n",
       " ['2', '3', '4', '5'],\n",
       " ['5'],\n",
       " ['1', '3', '4', '5'],\n",
       " ['3', '4', '10'],\n",
       " ['1', '3', '4', '5', '7'],\n",
       " ['1', '2', '3', '4', '5', '7'],\n",
       " ['3', '4', '5', '7', '9'],\n",
       " ['2', '3', '4', '5'],\n",
       " ['1', '2', '3', '4', '5', '9'],\n",
       " ['1', '2', '3', '4', '5', '9'],\n",
       " ['2', '3', '4'],\n",
       " ['2'],\n",
       " ['1', '2', '3', '4', '5'],\n",
       " ['2', '3', '4', '5'],\n",
       " ['1', '2', '3', '4', '6', '7'],\n",
       " ['1', '2', '3', '4', '5', '9'],\n",
       " ['4', '5', '7'],\n",
       " ['1', '3', '7'],\n",
       " ['1', '3', '4', '5'],\n",
       " ['1', '2', '3', '4', '5', '7'],\n",
       " ['1', '2', '3', '4', '5', '7'],\n",
       " ['2', '3', '4', '5', '10'],\n",
       " ['1', '3', '4', '5', '6', '9'],\n",
       " ['4'],\n",
       " ['3', '4', '5', '9'],\n",
       " ['3', '4', '5', '7'],\n",
       " ['1', '2', '3', '4', '5', '7'],\n",
       " ['5', '7'],\n",
       " ['1', '2', '3', '5', '7'],\n",
       " ['3', '4', '5'],\n",
       " ['2', '3', '4', '5', '6', '7', '9'],\n",
       " ['5', '6', '9'],\n",
       " ['2', '3', '5', '9'],\n",
       " ['1', '2', '3', '4', '5', '7'],\n",
       " ['6', '9'],\n",
       " ['1', '3', '4', '5', '7'],\n",
       " ['1', '2', '3', '4', '5', '7'],\n",
       " ['1', '2', '3', '4', '5', '7', '9', '10'],\n",
       " ['3', '4', '5'],\n",
       " ['1', '2', '3', '5'],\n",
       " ['3', '5', '7'],\n",
       " ['2'],\n",
       " ['4', '5', '7'],\n",
       " ['1', '2', '3', '4', '5', '10'],\n",
       " ['1', '3', '4', '5', '9'],\n",
       " ['3', '5'],\n",
       " ['3', '5'],\n",
       " ['3', '4', '5', '9'],\n",
       " ['3', '4', '5'],\n",
       " ['3', '5', '7', '9'],\n",
       " ['2', '3', '4', '5', '9', '10'],\n",
       " ['2', '10'],\n",
       " ['1', '3', '4'],\n",
       " ['1', '2', '3', '4', '5', '7', '9', '10'],\n",
       " ['1', '3', '4', '5', '7'],\n",
       " ['4', '5', '7'],\n",
       " ['1', '2', '3', '4', '5', '7'],\n",
       " ['3', '5'],\n",
       " ['1'],\n",
       " ['1', '2', '3', '4', '5', '7', '10'],\n",
       " ['4', '5', '6'],\n",
       " ['3', '4', '5'],\n",
       " ['3'],\n",
       " ['1', '3', '4', '5'],\n",
       " ['3', '4', '5'],\n",
       " ['3', '4', '5'],\n",
       " ['2', '3', '5'],\n",
       " ['1', '2', '3', '4', '5', '10'],\n",
       " ['3', '4', '5', '7'],\n",
       " ['2', '3', '4', '5', '7'],\n",
       " ['3', '4', '5'],\n",
       " ['1', '3', '4', '5'],\n",
       " ['1', '2', '3', '4', '5', '6', '7', '10'],\n",
       " ['1', '2', '3', '4', '5', '6', '10'],\n",
       " ['3', '4', '5', '6'],\n",
       " ['3', '4', '5', '7'],\n",
       " ['1', '2', '3', '4', '7'],\n",
       " ['1', '3', '5', '9'],\n",
       " ['5', '6'],\n",
       " ['1', '5', '6', '10'],\n",
       " ['2', '3', '6'],\n",
       " ['1', '2', '3', '5', '9'],\n",
       " ['4', '5'],\n",
       " ['1', '3', '4'],\n",
       " ['1', '5', '9'],\n",
       " ['1', '2', '3', '4', '5', '9', '10'],\n",
       " ['1', '3', '4', '5', '7'],\n",
       " ['1', '2', '3', '4', '9'],\n",
       " ['1', '3', '4', '9'],\n",
       " ['1', '3', '4', '5', '6', '9'],\n",
       " ['1', '3', '4', '5'],\n",
       " ['3'],\n",
       " ['1', '5', '6'],\n",
       " ['1', '5', '9'],\n",
       " ['2', '3', '4', '5', '6'],\n",
       " ['1', '3', '4', '5'],\n",
       " ['1', '2', '3', '5', '7'],\n",
       " ['1', '3', '4', '5'],\n",
       " ['1', '3', '5', '7', '9'],\n",
       " ['1', '3', '4', '5', '7', '9', '10'],\n",
       " ['1', '2', '3', '4'],\n",
       " ['1', '2', '3', '4', '5', '6', '10'],\n",
       " ['3', '4', '5'],\n",
       " ['3', '4', '5'],\n",
       " ['1', '2', '3', '4', '5'],\n",
       " ['5'],\n",
       " ['5'],\n",
       " ['5'],\n",
       " ['1', '3', '4', '5'],\n",
       " ['1', '2', '4', '5', '7'],\n",
       " ['1', '2', '3', '4', '5', '7'],\n",
       " ['3', '4', '5'],\n",
       " ['4'],\n",
       " ['1', '2', '5'],\n",
       " ['3', '4', '5'],\n",
       " ['3', '4', '5', '7'],\n",
       " ['1', '3', '4', '5', '7'],\n",
       " ['3', '4', '5'],\n",
       " ['1', '2', '3', '4'],\n",
       " ['1', '2', '3', '4', '5'],\n",
       " ['3', '5', '7'],\n",
       " ['2', '3', '4', '5'],\n",
       " ['1', '3', '4', '5'],\n",
       " ['1', '4', '5'],\n",
       " ['3', '4'],\n",
       " ['2', '3', '4', '5'],\n",
       " ['1', '3', '5'],\n",
       " ['1', '5'],\n",
       " ['1', '2', '3', '4', '5'],\n",
       " ['1', '3', '4', '5', '7'],\n",
       " ['4', '5'],\n",
       " ['1', '3', '4', '5'],\n",
       " ['3', '5', '7'],\n",
       " ['3', '4', '5'],\n",
       " ['1', '3', '4', '5', '9'],\n",
       " ['1', '3'],\n",
       " ['3', '5', '7', '9'],\n",
       " ['2', '3', '4', '5', '7'],\n",
       " ['1', '3', '4', '5', '7', '9'],\n",
       " ['1', '3', '5', '7', '9'],\n",
       " ['1', '2', '3', '4', '5', '7'],\n",
       " ['1', '3', '4', '5', '7'],\n",
       " ['3', '4'],\n",
       " ['1', '5'],\n",
       " ['1', '3'],\n",
       " ['5'],\n",
       " ['1', '2', '3', '4', '5'],\n",
       " ['2', '3', '4', '5', '7'],\n",
       " ['1', '3', '4', '5', '7'],\n",
       " ['3', '4', '5', '7'],\n",
       " ['1', '3', '4', '5'],\n",
       " ['1', '2', '3', '4', '5'],\n",
       " ['2', '3', '4', '5', '7'],\n",
       " ['2', '3', '4'],\n",
       " ['3', '4', '5'],\n",
       " ['1', '2', '3', '4', '5', '9'],\n",
       " ['2', '3', '4', '5', '9', '10'],\n",
       " ['1', '3', '4', '5', '7'],\n",
       " ['1', '2', '3', '4', '5', '6', '7', '9'],\n",
       " ['1', '3', '4', '5', '6', '7'],\n",
       " ['1', '2', '3', '4', '5'],\n",
       " ['1', '3', '4', '5'],\n",
       " ['1', '2', '3', '4', '5'],\n",
       " ['4', '7'],\n",
       " ['3', '4', '5'],\n",
       " ['1', '3'],\n",
       " ['3', '10'],\n",
       " ['2', '5'],\n",
       " ['3', '4', '5', '7', '9']]"
      ]
     },
     "execution_count": 263,
     "metadata": {},
     "output_type": "execute_result"
    }
   ],
   "source": [
    "#isolate each string into it's individual values\n",
    "new = []\n",
    "i = len(listed)\n",
    "for val in range(i):\n",
    "    new.append(listed[val].split(','))\n",
    "\n"
   ]
  },
  {
   "cell_type": "code",
   "execution_count": 240,
   "metadata": {},
   "outputs": [],
   "source": [
    "from collections import Counter"
   ]
  },
  {
   "cell_type": "code",
   "execution_count": 264,
   "metadata": {},
   "outputs": [],
   "source": [
    "#Seperate each value into new list\n",
    "\n",
    "iterable = []\n",
    "\n",
    "for i in new:\n",
    "    for val in i:\n",
    "        iterable.append(str(val))\n",
    "        "
   ]
  },
  {
   "cell_type": "code",
   "execution_count": 265,
   "metadata": {},
   "outputs": [
    {
     "data": {
      "text/plain": [
       "Counter({'1': 101,\n",
       "         '3': 161,\n",
       "         '4': 144,\n",
       "         '5': 159,\n",
       "         '2': 74,\n",
       "         '7': 64,\n",
       "         '10': 21,\n",
       "         '6': 19,\n",
       "         '9': 36})"
      ]
     },
     "execution_count": 265,
     "metadata": {},
     "output_type": "execute_result"
    }
   ],
   "source": [
    "#Values are now correct, but commas need to be dropped\n",
    "\n",
    "collections.Counter(iterable)"
   ]
  },
  {
   "cell_type": "code",
   "execution_count": 266,
   "metadata": {},
   "outputs": [],
   "source": [
    "new = pd.DataFrame(iterable)"
   ]
  },
  {
   "cell_type": "code",
   "execution_count": 267,
   "metadata": {},
   "outputs": [
    {
     "data": {
      "text/plain": [
       "0       object\n",
       "nums    object\n",
       "dtype: object"
      ]
     },
     "execution_count": 267,
     "metadata": {},
     "output_type": "execute_result"
    }
   ],
   "source": [
    "new['nums'] = new[0]\n",
    "new.dtypes"
   ]
  },
  {
   "cell_type": "code",
   "execution_count": 297,
   "metadata": {},
   "outputs": [
    {
     "data": {
      "text/plain": [
       "instagram    161\n",
       "youtube      159\n",
       "snapchat     144\n",
       "facebook     101\n",
       "twitter       74\n",
       "pinterest     64\n",
       "whatsapp      36\n",
       "tumblr        21\n",
       "reddit        19\n",
       "Name: nums, dtype: int64"
      ]
     },
     "execution_count": 297,
     "metadata": {},
     "output_type": "execute_result"
    }
   ],
   "source": [
    "new['values'] = new['nums'].map({'1':'facebook', '2':'twitter', '3':'instagram', '4':'snapchat', '5':'youtube', '6':'reddit', \n",
    "                 '7':'pinterest', '8':'wechat', '9':'whatsapp', '10':'tumblr'}).sort_values()\n",
    "values.value_counts()\n",
    "\n"
   ]
  },
  {
   "cell_type": "code",
   "execution_count": 310,
   "metadata": {},
   "outputs": [],
   "source": []
  },
  {
   "cell_type": "code",
   "execution_count": 336,
   "metadata": {},
   "outputs": [
    {
     "data": {
      "image/png": "[encoded data removed]",
      "text/plain": [
       "<Figure size 1440x720 with 1 Axes>"
      ]
     },
     "metadata": {},
     "output_type": "display_data"
    }
   ],
   "source": [
    "plt.figure(figsize = (20,10))\n",
    "count = sns.countplot(x = values, data = new, palette = 'Blues_d', order = ['instagram', 'youtube', \n",
    "                                                                          'snapchat', 'facebook',\n",
    "                                                                         'twitter', 'pinterest', 'whatsapp',\n",
    "                                                                         'tumblr', 'reddit'])\n",
    "count.set_xticklabels(count.get_xticklabels(), rotation = 30, size = 15)\n",
    "count.set_xlabel('Social Media Platform', size = 15)\n",
    "count.set_title('Social Media Usage')\n",
    "\n",
    "final = count.get_figure()"
   ]
  },
  {
   "cell_type": "code",
   "execution_count": 337,
   "metadata": {},
   "outputs": [],
   "source": [
    "final.savefig('social_media.png')"
   ]
  },
  {
   "cell_type": "code",
   "execution_count": null,
   "metadata": {},
   "outputs": [],
   "source": []
  }
 ],
 "metadata": {
  "kernelspec": {
   "display_name": "Python 3",
   "language": "python",
   "name": "python3"
  },
  "language_info": {
   "codemirror_mode": {
    "name": "ipython",
    "version": 3
   },
   "file_extension": ".py",
   "mimetype": "text/x-python",
   "name": "python",
   "nbconvert_exporter": "python",
   "pygments_lexer": "ipython3",
   "version": "3.6.5"
  }
 },
 "nbformat": 4,
 "nbformat_minor": 2
}
